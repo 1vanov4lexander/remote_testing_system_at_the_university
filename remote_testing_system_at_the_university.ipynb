{
 "cells": [
  {
   "cell_type": "markdown",
   "id": "0255e2f3-6d1a-4f3d-9e1b-1d9174d0d1ed",
   "metadata": {},
   "source": [
    "# Выявление случаев нечестной сдачи экзамена"
   ]
  },
  {
   "cell_type": "markdown",
   "id": "4798685a-ef08-4cbc-85fd-c1fc4227dd48",
   "metadata": {},
   "source": [
    "## Описание задания"
   ]
  },
  {
   "cell_type": "markdown",
   "id": "a034ba57-9b3b-419a-abe5-ef09a2607387",
   "metadata": {
    "jupyter": {
     "source_hidden": true
    }
   },
   "source": [
    "remote testing system at the university - система удалённого тестирования в университете\n",
    "\n",
    "В рамках задачи предложено поставить себя на место аналитика системы проведения экзаменов в университете.\n",
    "\n",
    "Экзамены в системе проводятся в следующем формате. В обозначенное время экзаменуемые студенты приходят в специальный компьютерный класс в здании университета, каждый из них садится за свой компьютер, открывает систему и начинает решать задания в ней.\n",
    "\n",
    "Для простоты будем считать, что задания в системе выдаются по очереди: после сдачи ответа по очередному заданию студенту выдаётся следующее без возможности вернуться к предыдущему. Для того чтобы завершить сдачу экзамена, необходимо ввести ответы на все вопросы. Также будем считать, что задания в системе бывают только тестового типа: в каждой задаче студенту нужно выбрать один из нескольких вариантов ответа.\n",
    "\n",
    "Коллеги, которые проводят экзамены в системе, обратились с вопросом: были ли в рамках нескольких экзаменов случаи, когда ученики сдавали их нечестным путём? Проще говоря, были ли в рамках этих экзаменов случаи списывания?\n",
    "\n",
    "Задача\n",
    "\n",
    "Задача состоит в том, чтобы проанализировать данные о проведении экзаменов и проинформировать коллег о подозрительном поведении учеников, если оно имело место быть.\n",
    "\n",
    "Важно: на основе анализа представленных данных мы можем только выдвинуть предположение о том, что кто-то из учеников списал экзамен. Доподлинно узнать ответ на этот вопрос мы не сможем, однако сможем обратить внимание коллег на подозрительное поведение учеников, похожее на списывание."
   ]
  },
  {
   "cell_type": "markdown",
   "id": "64ac68eb-02b0-480a-a727-c1229dabfcfd",
   "metadata": {
    "jupyter": {
     "source_hidden": true
    }
   },
   "source": [
    "Таблица «exam»\n",
    "\n",
    "В таблице содержится общая информация о проведённых экзаменах.\n",
    "\n",
    "Таблица содержит следующие колонки:\n",
    "\n",
    "«id» — уникальный идентификатор экзамена.\n",
    "\n",
    "«start_date» — дата и время начала экзамена. Формат представления даты и времени: %Y-%m-%d %H:%M:%S.\n",
    "\n",
    "«tasks_cnt» — число заданий в экзамене.\n",
    "\n",
    "Таблица «user_answer»\n",
    "\n",
    "В таблице содержится информация о том, какие ответы ученики давали на задания экзаменов. Каждая строчка соответствует ответу конкретного ученика на конкретное задание экзамена. Если ученик давал несколько ответов на задание экзамена, то в таблице будет сохранён только последний из них.\n",
    "\n",
    "Таблица содержит следующие колонки:\n",
    "\n",
    "«exam_id» — идентификатор экзамена, на задания которого ученик давал ответ.\n",
    "\n",
    "«user_id» — идентификатор ученика в системе.\n",
    "\n",
    "«task_ind» — номер задания, на которое ученик дал ответ.\n",
    "\n",
    "«answer» — ответ, который дал ученик на данное задание. Ответ представляется в виде целого числа — номера ответа, который выбрал ученик.\n",
    "\n",
    "«verdict» — вердикт экзаменационной системы по ответу ученика. Равен «OK» в случае, если ученик дал правильный ответ, и равен «WA» в противном случае.\n",
    "\n",
    "«time» — момент времени, в который ученик дал ответ на задание. Формат момента времени: %Y-%m-%d %H-%M-%S."
   ]
  },
  {
   "cell_type": "markdown",
   "id": "914f20cd-ac00-4af8-8b55-91fb21638c68",
   "metadata": {},
   "source": [
    "## Постановка гипотез"
   ]
  },
  {
   "cell_type": "markdown",
   "id": "7bf39e0a-5067-4452-80f5-2e27b28c1646",
   "metadata": {
    "jupyter": {
     "source_hidden": true
    }
   },
   "source": [
    "Гипотеза 1. Есть студенты, которые списали у товарища\n",
    "\n",
    "Метрики:\n",
    "1. Доля совпавших ответов\n",
    "2. Данные ответы даны в одинаковое время с точностью до нескольких секунд\n",
    "\n",
    "Гипотеза 2. Есть студенты, которые списали с готовых ответов\n",
    "\n",
    "Метрики:\n",
    "1. Доля верных ответов\n",
    "2. Данные ответы были даны слишком быстро\n",
    "\n",
    "Проверка студентов, подозреваемых в списывании, остаётся за экзаменаторами по условию задачи"
   ]
  },
  {
   "cell_type": "code",
   "execution_count": 1,
   "id": "49c79b89-2802-4731-86b3-6aed525ba52c",
   "metadata": {},
   "outputs": [],
   "source": [
    "import pandas as pd\n",
    "import numpy as np\n",
    "import seaborn as sns"
   ]
  },
  {
   "cell_type": "code",
   "execution_count": 2,
   "id": "a371b7aa-0ecc-4609-bb47-1e9c0e98ff2e",
   "metadata": {},
   "outputs": [],
   "source": [
    "sns.set(rc={'figure.figsize':(11.7,8.27)})"
   ]
  },
  {
   "cell_type": "markdown",
   "id": "56ed7796-b227-4050-b9e9-ef854084e903",
   "metadata": {},
   "source": [
    "## Предобработка данных"
   ]
  },
  {
   "cell_type": "code",
   "execution_count": 3,
   "id": "e8c16301-31dd-4049-b83f-835ed52c3bec",
   "metadata": {},
   "outputs": [],
   "source": [
    "exam = pd.read_csv('exam.csv')\n",
    "user_answer = pd.read_csv('user_answer.csv')"
   ]
  },
  {
   "cell_type": "code",
   "execution_count": 4,
   "id": "3cd2da17-2dc7-4d01-9840-f32da314f452",
   "metadata": {},
   "outputs": [
    {
     "data": {
      "text/html": [
       "<div>\n",
       "<style scoped>\n",
       "    .dataframe tbody tr th:only-of-type {\n",
       "        vertical-align: middle;\n",
       "    }\n",
       "\n",
       "    .dataframe tbody tr th {\n",
       "        vertical-align: top;\n",
       "    }\n",
       "\n",
       "    .dataframe thead th {\n",
       "        text-align: right;\n",
       "    }\n",
       "</style>\n",
       "<table border=\"1\" class=\"dataframe\">\n",
       "  <thead>\n",
       "    <tr style=\"text-align: right;\">\n",
       "      <th></th>\n",
       "      <th>id</th>\n",
       "      <th>start_date</th>\n",
       "      <th>tasks_cnt</th>\n",
       "    </tr>\n",
       "  </thead>\n",
       "  <tbody>\n",
       "    <tr>\n",
       "      <th>0</th>\n",
       "      <td>1</td>\n",
       "      <td>2023-12-15 10:00:00</td>\n",
       "      <td>16</td>\n",
       "    </tr>\n",
       "    <tr>\n",
       "      <th>1</th>\n",
       "      <td>2</td>\n",
       "      <td>2023-12-20 10:00:00</td>\n",
       "      <td>4</td>\n",
       "    </tr>\n",
       "  </tbody>\n",
       "</table>\n",
       "</div>"
      ],
      "text/plain": [
       "   id           start_date  tasks_cnt\n",
       "0   1  2023-12-15 10:00:00         16\n",
       "1   2  2023-12-20 10:00:00          4"
      ]
     },
     "execution_count": 4,
     "metadata": {},
     "output_type": "execute_result"
    }
   ],
   "source": [
    "exam.head()"
   ]
  },
  {
   "cell_type": "code",
   "execution_count": 5,
   "id": "184d6361-726e-424c-af47-337c3dfe9ddd",
   "metadata": {},
   "outputs": [
    {
     "data": {
      "text/plain": [
       "id             int64\n",
       "start_date    object\n",
       "tasks_cnt      int64\n",
       "dtype: object"
      ]
     },
     "execution_count": 5,
     "metadata": {},
     "output_type": "execute_result"
    }
   ],
   "source": [
    "exam.dtypes"
   ]
  },
  {
   "cell_type": "code",
   "execution_count": 6,
   "id": "8fcce747-20c3-4598-8fd6-c66697f06894",
   "metadata": {},
   "outputs": [],
   "source": [
    "exam['start_date'] = pd.to_datetime(exam['start_date'], format = '%Y-%m-%d %H:%M:%S')"
   ]
  },
  {
   "cell_type": "code",
   "execution_count": 7,
   "id": "d4c20736-44db-48cd-8110-e9c69afa5f83",
   "metadata": {},
   "outputs": [
    {
     "data": {
      "text/plain": [
       "id                     int64\n",
       "start_date    datetime64[ns]\n",
       "tasks_cnt              int64\n",
       "dtype: object"
      ]
     },
     "execution_count": 7,
     "metadata": {},
     "output_type": "execute_result"
    }
   ],
   "source": [
    "exam.dtypes"
   ]
  },
  {
   "cell_type": "code",
   "execution_count": 8,
   "id": "7684dc82-bc83-4ca2-b306-5ee80df4c756",
   "metadata": {},
   "outputs": [
    {
     "data": {
      "text/html": [
       "<div>\n",
       "<style scoped>\n",
       "    .dataframe tbody tr th:only-of-type {\n",
       "        vertical-align: middle;\n",
       "    }\n",
       "\n",
       "    .dataframe tbody tr th {\n",
       "        vertical-align: top;\n",
       "    }\n",
       "\n",
       "    .dataframe thead th {\n",
       "        text-align: right;\n",
       "    }\n",
       "</style>\n",
       "<table border=\"1\" class=\"dataframe\">\n",
       "  <thead>\n",
       "    <tr style=\"text-align: right;\">\n",
       "      <th></th>\n",
       "      <th>exam_id</th>\n",
       "      <th>user_id</th>\n",
       "      <th>task_ind</th>\n",
       "      <th>answer</th>\n",
       "      <th>verdict</th>\n",
       "      <th>time</th>\n",
       "    </tr>\n",
       "  </thead>\n",
       "  <tbody>\n",
       "    <tr>\n",
       "      <th>0</th>\n",
       "      <td>1</td>\n",
       "      <td>98</td>\n",
       "      <td>1</td>\n",
       "      <td>1</td>\n",
       "      <td>OK</td>\n",
       "      <td>2023-12-15 10-22-51</td>\n",
       "    </tr>\n",
       "    <tr>\n",
       "      <th>1</th>\n",
       "      <td>1</td>\n",
       "      <td>98</td>\n",
       "      <td>2</td>\n",
       "      <td>0</td>\n",
       "      <td>WA</td>\n",
       "      <td>2023-12-15 11-16-21</td>\n",
       "    </tr>\n",
       "    <tr>\n",
       "      <th>2</th>\n",
       "      <td>1</td>\n",
       "      <td>98</td>\n",
       "      <td>3</td>\n",
       "      <td>1</td>\n",
       "      <td>OK</td>\n",
       "      <td>2023-12-15 11-28-44</td>\n",
       "    </tr>\n",
       "  </tbody>\n",
       "</table>\n",
       "</div>"
      ],
      "text/plain": [
       "   exam_id  user_id  task_ind  answer verdict                 time\n",
       "0        1       98         1       1      OK  2023-12-15 10-22-51\n",
       "1        1       98         2       0      WA  2023-12-15 11-16-21\n",
       "2        1       98         3       1      OK  2023-12-15 11-28-44"
      ]
     },
     "execution_count": 8,
     "metadata": {},
     "output_type": "execute_result"
    }
   ],
   "source": [
    "user_answer.head(3)"
   ]
  },
  {
   "cell_type": "code",
   "execution_count": 9,
   "id": "a8457e86-3169-4b69-b451-cf9432d207e4",
   "metadata": {},
   "outputs": [
    {
     "name": "stdout",
     "output_type": "stream",
     "text": [
      "<class 'pandas.core.frame.DataFrame'>\n",
      "RangeIndex: 4360 entries, 0 to 4359\n",
      "Data columns (total 6 columns):\n",
      " #   Column    Non-Null Count  Dtype \n",
      "---  ------    --------------  ----- \n",
      " 0   exam_id   4360 non-null   int64 \n",
      " 1   user_id   4360 non-null   int64 \n",
      " 2   task_ind  4360 non-null   int64 \n",
      " 3   answer    4360 non-null   int64 \n",
      " 4   verdict   4360 non-null   object\n",
      " 5   time      4360 non-null   object\n",
      "dtypes: int64(4), object(2)\n",
      "memory usage: 204.5+ KB\n"
     ]
    }
   ],
   "source": [
    "user_answer.info()"
   ]
  },
  {
   "cell_type": "code",
   "execution_count": 10,
   "id": "8a629246-36a9-4434-a78b-93e595d7a2d5",
   "metadata": {},
   "outputs": [
    {
     "data": {
      "text/plain": [
       "exam_id      int64\n",
       "user_id      int64\n",
       "task_ind     int64\n",
       "answer       int64\n",
       "verdict     object\n",
       "time        object\n",
       "dtype: object"
      ]
     },
     "execution_count": 10,
     "metadata": {},
     "output_type": "execute_result"
    }
   ],
   "source": [
    "user_answer.dtypes"
   ]
  },
  {
   "cell_type": "code",
   "execution_count": 11,
   "id": "dc5016f2-4ebb-4681-a19a-97aabbdab552",
   "metadata": {},
   "outputs": [],
   "source": [
    "user_answer['time'] = pd.to_datetime(user_answer['time'], format = '%Y-%m-%d %H-%M-%S')"
   ]
  },
  {
   "cell_type": "code",
   "execution_count": 12,
   "id": "c2b64839-76f2-45b6-9bf3-eba43a759e31",
   "metadata": {},
   "outputs": [
    {
     "data": {
      "text/plain": [
       "exam_id              int64\n",
       "user_id              int64\n",
       "task_ind             int64\n",
       "answer               int64\n",
       "verdict             object\n",
       "time        datetime64[ns]\n",
       "dtype: object"
      ]
     },
     "execution_count": 12,
     "metadata": {},
     "output_type": "execute_result"
    }
   ],
   "source": [
    "user_answer.dtypes"
   ]
  },
  {
   "cell_type": "markdown",
   "id": "bb0d6926-7dc9-43e2-a1fb-6709f3e670a3",
   "metadata": {},
   "source": [
    "Проверим временные выбросы"
   ]
  },
  {
   "cell_type": "code",
   "execution_count": 13,
   "id": "260df18b-f552-4ba6-98f5-75e1390f4923",
   "metadata": {},
   "outputs": [
    {
     "data": {
      "text/html": [
       "<div>\n",
       "<style scoped>\n",
       "    .dataframe tbody tr th:only-of-type {\n",
       "        vertical-align: middle;\n",
       "    }\n",
       "\n",
       "    .dataframe tbody tr th {\n",
       "        vertical-align: top;\n",
       "    }\n",
       "\n",
       "    .dataframe thead th {\n",
       "        text-align: right;\n",
       "    }\n",
       "</style>\n",
       "<table border=\"1\" class=\"dataframe\">\n",
       "  <thead>\n",
       "    <tr style=\"text-align: right;\">\n",
       "      <th></th>\n",
       "      <th>exam_id</th>\n",
       "      <th>user_id</th>\n",
       "      <th>task_ind</th>\n",
       "      <th>answer</th>\n",
       "      <th>verdict</th>\n",
       "      <th>time</th>\n",
       "    </tr>\n",
       "  </thead>\n",
       "  <tbody>\n",
       "    <tr>\n",
       "      <th>2208</th>\n",
       "      <td>1</td>\n",
       "      <td>102</td>\n",
       "      <td>1</td>\n",
       "      <td>2</td>\n",
       "      <td>WA</td>\n",
       "      <td>2023-12-15 10:00:08</td>\n",
       "    </tr>\n",
       "    <tr>\n",
       "      <th>576</th>\n",
       "      <td>1</td>\n",
       "      <td>90</td>\n",
       "      <td>1</td>\n",
       "      <td>1</td>\n",
       "      <td>OK</td>\n",
       "      <td>2023-12-15 10:00:10</td>\n",
       "    </tr>\n",
       "    <tr>\n",
       "      <th>2209</th>\n",
       "      <td>1</td>\n",
       "      <td>102</td>\n",
       "      <td>2</td>\n",
       "      <td>2</td>\n",
       "      <td>OK</td>\n",
       "      <td>2023-12-15 10:00:22</td>\n",
       "    </tr>\n",
       "  </tbody>\n",
       "</table>\n",
       "</div>"
      ],
      "text/plain": [
       "      exam_id  user_id  task_ind  answer verdict                time\n",
       "2208        1      102         1       2      WA 2023-12-15 10:00:08\n",
       "576         1       90         1       1      OK 2023-12-15 10:00:10\n",
       "2209        1      102         2       2      OK 2023-12-15 10:00:22"
      ]
     },
     "metadata": {},
     "output_type": "display_data"
    },
    {
     "data": {
      "text/html": [
       "<div>\n",
       "<style scoped>\n",
       "    .dataframe tbody tr th:only-of-type {\n",
       "        vertical-align: middle;\n",
       "    }\n",
       "\n",
       "    .dataframe tbody tr th {\n",
       "        vertical-align: top;\n",
       "    }\n",
       "\n",
       "    .dataframe thead th {\n",
       "        text-align: right;\n",
       "    }\n",
       "</style>\n",
       "<table border=\"1\" class=\"dataframe\">\n",
       "  <thead>\n",
       "    <tr style=\"text-align: right;\">\n",
       "      <th></th>\n",
       "      <th>exam_id</th>\n",
       "      <th>user_id</th>\n",
       "      <th>task_ind</th>\n",
       "      <th>answer</th>\n",
       "      <th>verdict</th>\n",
       "      <th>time</th>\n",
       "    </tr>\n",
       "  </thead>\n",
       "  <tbody>\n",
       "    <tr>\n",
       "      <th>383</th>\n",
       "      <td>1</td>\n",
       "      <td>71</td>\n",
       "      <td>16</td>\n",
       "      <td>3</td>\n",
       "      <td>WA</td>\n",
       "      <td>2023-12-15 17:10:47</td>\n",
       "    </tr>\n",
       "    <tr>\n",
       "      <th>382</th>\n",
       "      <td>1</td>\n",
       "      <td>71</td>\n",
       "      <td>15</td>\n",
       "      <td>3</td>\n",
       "      <td>WA</td>\n",
       "      <td>2023-12-15 17:08:50</td>\n",
       "    </tr>\n",
       "    <tr>\n",
       "      <th>381</th>\n",
       "      <td>1</td>\n",
       "      <td>71</td>\n",
       "      <td>14</td>\n",
       "      <td>0</td>\n",
       "      <td>OK</td>\n",
       "      <td>2023-12-15 17:06:38</td>\n",
       "    </tr>\n",
       "  </tbody>\n",
       "</table>\n",
       "</div>"
      ],
      "text/plain": [
       "     exam_id  user_id  task_ind  answer verdict                time\n",
       "383        1       71        16       3      WA 2023-12-15 17:10:47\n",
       "382        1       71        15       3      WA 2023-12-15 17:08:50\n",
       "381        1       71        14       0      OK 2023-12-15 17:06:38"
      ]
     },
     "metadata": {},
     "output_type": "display_data"
    }
   ],
   "source": [
    "display(user_answer[user_answer['exam_id'] == 1].sort_values('time').head(3))\n",
    "display(user_answer[user_answer['exam_id'] == 1].sort_values('time', ascending = False).head(3))"
   ]
  },
  {
   "cell_type": "code",
   "execution_count": 14,
   "id": "34b36340-9aa3-4959-8c08-b27951d1a862",
   "metadata": {},
   "outputs": [
    {
     "data": {
      "text/html": [
       "<div>\n",
       "<style scoped>\n",
       "    .dataframe tbody tr th:only-of-type {\n",
       "        vertical-align: middle;\n",
       "    }\n",
       "\n",
       "    .dataframe tbody tr th {\n",
       "        vertical-align: top;\n",
       "    }\n",
       "\n",
       "    .dataframe thead th {\n",
       "        text-align: right;\n",
       "    }\n",
       "</style>\n",
       "<table border=\"1\" class=\"dataframe\">\n",
       "  <thead>\n",
       "    <tr style=\"text-align: right;\">\n",
       "      <th></th>\n",
       "      <th>exam_id</th>\n",
       "      <th>user_id</th>\n",
       "      <th>task_ind</th>\n",
       "      <th>answer</th>\n",
       "      <th>verdict</th>\n",
       "      <th>time</th>\n",
       "    </tr>\n",
       "  </thead>\n",
       "  <tbody>\n",
       "    <tr>\n",
       "      <th>3840</th>\n",
       "      <td>2</td>\n",
       "      <td>328</td>\n",
       "      <td>1</td>\n",
       "      <td>3</td>\n",
       "      <td>WA</td>\n",
       "      <td>2023-12-20 10:00:01</td>\n",
       "    </tr>\n",
       "    <tr>\n",
       "      <th>2736</th>\n",
       "      <td>2</td>\n",
       "      <td>41</td>\n",
       "      <td>1</td>\n",
       "      <td>1</td>\n",
       "      <td>WA</td>\n",
       "      <td>2023-12-20 10:00:02</td>\n",
       "    </tr>\n",
       "    <tr>\n",
       "      <th>3056</th>\n",
       "      <td>2</td>\n",
       "      <td>17</td>\n",
       "      <td>1</td>\n",
       "      <td>2</td>\n",
       "      <td>OK</td>\n",
       "      <td>2023-12-20 10:00:03</td>\n",
       "    </tr>\n",
       "  </tbody>\n",
       "</table>\n",
       "</div>"
      ],
      "text/plain": [
       "      exam_id  user_id  task_ind  answer verdict                time\n",
       "3840        2      328         1       3      WA 2023-12-20 10:00:01\n",
       "2736        2       41         1       1      WA 2023-12-20 10:00:02\n",
       "3056        2       17         1       2      OK 2023-12-20 10:00:03"
      ]
     },
     "metadata": {},
     "output_type": "display_data"
    },
    {
     "data": {
      "text/html": [
       "<div>\n",
       "<style scoped>\n",
       "    .dataframe tbody tr th:only-of-type {\n",
       "        vertical-align: middle;\n",
       "    }\n",
       "\n",
       "    .dataframe tbody tr th {\n",
       "        vertical-align: top;\n",
       "    }\n",
       "\n",
       "    .dataframe thead th {\n",
       "        text-align: right;\n",
       "    }\n",
       "</style>\n",
       "<table border=\"1\" class=\"dataframe\">\n",
       "  <thead>\n",
       "    <tr style=\"text-align: right;\">\n",
       "      <th></th>\n",
       "      <th>exam_id</th>\n",
       "      <th>user_id</th>\n",
       "      <th>task_ind</th>\n",
       "      <th>answer</th>\n",
       "      <th>verdict</th>\n",
       "      <th>time</th>\n",
       "    </tr>\n",
       "  </thead>\n",
       "  <tbody>\n",
       "    <tr>\n",
       "      <th>4347</th>\n",
       "      <td>2</td>\n",
       "      <td>440</td>\n",
       "      <td>4</td>\n",
       "      <td>1</td>\n",
       "      <td>WA</td>\n",
       "      <td>2023-12-20 15:24:03</td>\n",
       "    </tr>\n",
       "    <tr>\n",
       "      <th>4346</th>\n",
       "      <td>2</td>\n",
       "      <td>440</td>\n",
       "      <td>3</td>\n",
       "      <td>2</td>\n",
       "      <td>WA</td>\n",
       "      <td>2023-12-20 15:22:18</td>\n",
       "    </tr>\n",
       "    <tr>\n",
       "      <th>4345</th>\n",
       "      <td>2</td>\n",
       "      <td>440</td>\n",
       "      <td>2</td>\n",
       "      <td>0</td>\n",
       "      <td>OK</td>\n",
       "      <td>2023-12-20 15:21:47</td>\n",
       "    </tr>\n",
       "  </tbody>\n",
       "</table>\n",
       "</div>"
      ],
      "text/plain": [
       "      exam_id  user_id  task_ind  answer verdict                time\n",
       "4347        2      440         4       1      WA 2023-12-20 15:24:03\n",
       "4346        2      440         3       2      WA 2023-12-20 15:22:18\n",
       "4345        2      440         2       0      OK 2023-12-20 15:21:47"
      ]
     },
     "metadata": {},
     "output_type": "display_data"
    }
   ],
   "source": [
    "display(user_answer[user_answer['exam_id'] == 2].sort_values('time').head(3))\n",
    "display(user_answer[user_answer['exam_id'] == 2].sort_values('time', ascending = False).head(3))"
   ]
  },
  {
   "cell_type": "markdown",
   "id": "3d4bbc2e-4086-4cbf-9afb-db5a422fc29a",
   "metadata": {},
   "source": [
    "Добавим колонку, в которой указано время сдачи ответа от начала экзамена в минутах"
   ]
  },
  {
   "cell_type": "code",
   "execution_count": 15,
   "id": "ef5ed715-4d48-4004-b777-56156d09569c",
   "metadata": {},
   "outputs": [],
   "source": [
    "user_answer_add = user_answer.copy()"
   ]
  },
  {
   "cell_type": "code",
   "execution_count": 16,
   "id": "7c52200f-3c5e-4981-9d6d-1e5c129042f3",
   "metadata": {
    "scrolled": true
   },
   "outputs": [],
   "source": [
    "mask = user_answer_add['exam_id'] == 1\n",
    "user_answer_add.loc[mask, 'answer_time'] = user_answer_add.loc[mask, 'time'].apply(\n",
    "    lambda x: (x.timestamp() - exam['start_date'][0].timestamp())//60\n",
    ")\n",
    "\n",
    "mask = user_answer_add['exam_id'] == 2\n",
    "user_answer_add.loc[mask, 'answer_time'] = user_answer_add.loc[mask, 'time'].apply(\n",
    "    lambda x: (x.timestamp() - exam['start_date'][1].timestamp())//60\n",
    ")"
   ]
  },
  {
   "cell_type": "code",
   "execution_count": 17,
   "id": "89dead76-4cfc-4281-ae3a-57d115d452cc",
   "metadata": {},
   "outputs": [
    {
     "data": {
      "text/html": [
       "<div>\n",
       "<style scoped>\n",
       "    .dataframe tbody tr th:only-of-type {\n",
       "        vertical-align: middle;\n",
       "    }\n",
       "\n",
       "    .dataframe tbody tr th {\n",
       "        vertical-align: top;\n",
       "    }\n",
       "\n",
       "    .dataframe thead th {\n",
       "        text-align: right;\n",
       "    }\n",
       "</style>\n",
       "<table border=\"1\" class=\"dataframe\">\n",
       "  <thead>\n",
       "    <tr style=\"text-align: right;\">\n",
       "      <th></th>\n",
       "      <th>exam_id</th>\n",
       "      <th>user_id</th>\n",
       "      <th>task_ind</th>\n",
       "      <th>answer</th>\n",
       "      <th>verdict</th>\n",
       "      <th>time</th>\n",
       "      <th>answer_time</th>\n",
       "    </tr>\n",
       "  </thead>\n",
       "  <tbody>\n",
       "    <tr>\n",
       "      <th>242</th>\n",
       "      <td>1</td>\n",
       "      <td>26</td>\n",
       "      <td>3</td>\n",
       "      <td>0</td>\n",
       "      <td>WA</td>\n",
       "      <td>2023-12-15 10:17:37</td>\n",
       "      <td>17.0</td>\n",
       "    </tr>\n",
       "    <tr>\n",
       "      <th>1901</th>\n",
       "      <td>1</td>\n",
       "      <td>129</td>\n",
       "      <td>14</td>\n",
       "      <td>1</td>\n",
       "      <td>WA</td>\n",
       "      <td>2023-12-15 14:05:25</td>\n",
       "      <td>245.0</td>\n",
       "    </tr>\n",
       "    <tr>\n",
       "      <th>1263</th>\n",
       "      <td>1</td>\n",
       "      <td>83</td>\n",
       "      <td>16</td>\n",
       "      <td>3</td>\n",
       "      <td>WA</td>\n",
       "      <td>2023-12-15 11:59:29</td>\n",
       "      <td>119.0</td>\n",
       "    </tr>\n",
       "    <tr>\n",
       "      <th>4074</th>\n",
       "      <td>2</td>\n",
       "      <td>275</td>\n",
       "      <td>3</td>\n",
       "      <td>0</td>\n",
       "      <td>WA</td>\n",
       "      <td>2023-12-20 10:39:31</td>\n",
       "      <td>39.0</td>\n",
       "    </tr>\n",
       "    <tr>\n",
       "      <th>1375</th>\n",
       "      <td>1</td>\n",
       "      <td>51</td>\n",
       "      <td>16</td>\n",
       "      <td>3</td>\n",
       "      <td>WA</td>\n",
       "      <td>2023-12-15 13:58:12</td>\n",
       "      <td>238.0</td>\n",
       "    </tr>\n",
       "  </tbody>\n",
       "</table>\n",
       "</div>"
      ],
      "text/plain": [
       "      exam_id  user_id  task_ind  answer verdict                time  \\\n",
       "242         1       26         3       0      WA 2023-12-15 10:17:37   \n",
       "1901        1      129        14       1      WA 2023-12-15 14:05:25   \n",
       "1263        1       83        16       3      WA 2023-12-15 11:59:29   \n",
       "4074        2      275         3       0      WA 2023-12-20 10:39:31   \n",
       "1375        1       51        16       3      WA 2023-12-15 13:58:12   \n",
       "\n",
       "      answer_time  \n",
       "242          17.0  \n",
       "1901        245.0  \n",
       "1263        119.0  \n",
       "4074         39.0  \n",
       "1375        238.0  "
      ]
     },
     "execution_count": 17,
     "metadata": {},
     "output_type": "execute_result"
    }
   ],
   "source": [
    "user_answer_add.sample(5)"
   ]
  },
  {
   "cell_type": "code",
   "execution_count": 18,
   "id": "dc3492f8-e48a-4704-9491-fcc832c39101",
   "metadata": {},
   "outputs": [],
   "source": [
    "user_answer_add_1 = user_answer_add[user_answer_add['exam_id'] == 1]\n",
    "user_answer_add_2 = user_answer_add[user_answer_add['exam_id'] == 2]"
   ]
  },
  {
   "cell_type": "code",
   "execution_count": 44,
   "id": "f2a20e3a-d057-4b30-8c99-50cf9a3dbc26",
   "metadata": {},
   "outputs": [
    {
     "data": {
      "text/plain": [
       "<Axes: xlabel='answer_time', ylabel='Count'>"
      ]
     },
     "execution_count": 44,
     "metadata": {},
     "output_type": "execute_result"
    },
    {
     "data": {
      "image/png": "[encoded data removed]",
      "text/plain": [
       "<Figure size 1170x827 with 1 Axes>"
      ]
     },
     "metadata": {},
     "output_type": "display_data"
    }
   ],
   "source": [
    "sns.histplot(user_answer_add_1['answer_time'])"
   ]
  },
  {
   "cell_type": "code",
   "execution_count": 46,
   "id": "c68cef30-4c21-4cd5-8ca9-0561016602ca",
   "metadata": {},
   "outputs": [
    {
     "data": {
      "text/plain": [
       "<Axes: xlabel='answer_time', ylabel='Count'>"
      ]
     },
     "execution_count": 46,
     "metadata": {},
     "output_type": "execute_result"
    },
    {
     "data": {
      "image/png": "[encoded data removed]",
      "text/plain": [
       "<Figure size 1170x827 with 1 Axes>"
      ]
     },
     "metadata": {},
     "output_type": "display_data"
    }
   ],
   "source": [
    "sns.histplot(user_answer_add_2['answer_time'])"
   ]
  },
  {
   "cell_type": "markdown",
   "id": "5e1ace12-1425-4451-9f0b-5d069cab8034",
   "metadata": {},
   "source": [
    "Экзамены длились 7 и 5 часов соответственно, что вполне вероятно, хотя и редко"
   ]
  },
  {
   "cell_type": "code",
   "execution_count": 48,
   "id": "e8ba47c9-04ec-4a8c-a741-0a310784afa1",
   "metadata": {},
   "outputs": [
    {
     "data": {
      "text/plain": [
       "exam_id        2\n",
       "user_id      530\n",
       "task_ind      16\n",
       "answer         4\n",
       "verdict        2\n",
       "time        3909\n",
       "dtype: int64"
      ]
     },
     "execution_count": 48,
     "metadata": {},
     "output_type": "execute_result"
    }
   ],
   "source": [
    "user_answer.nunique()"
   ]
  },
  {
   "cell_type": "markdown",
   "id": "498f8741-f6d0-4b78-97e0-453e3484f889",
   "metadata": {},
   "source": [
    "<center>Выводы</center>\n",
    "\n",
    "\n",
    "Видим всего 530 студентов, 16 вопросов в первом экзамене и 4 вопроса во втором экзамене, по 4 варианта ответов на вопрос. У каждого ответа зафиксировано время\n",
    "\n",
    "1) Возникает идея отслеживать подозрительные пары студентов с большим количеством одинаковых ответов, которые были даны в приблизительно одинаковое время\n",
    "2) Если ответы вводились слишком быстро, то есть подозрение, что студент вбивал готовые ответы"
   ]
  },
  {
   "cell_type": "markdown",
   "id": "1b810b46-7413-4de2-aeb8-5a17d53c45c0",
   "metadata": {},
   "source": [
    "## Вычисление метрик для первой гипотезы"
   ]
  },
  {
   "cell_type": "markdown",
   "id": "25199165-13e0-4953-b171-6da6c79896da",
   "metadata": {},
   "source": [
    "Для проверки первой гипотезы отберём студентов, у которых совпадает большая часть ответов и сами ответы даны близко друг к другу по времени"
   ]
  },
  {
   "cell_type": "markdown",
   "id": "0429ca6e-3268-40b0-8c5c-7e0ae613739f",
   "metadata": {},
   "source": [
    "В ходе решения данной задачи оказалось, что приходится брать много данных из датафрейма, что замедляет выполнение кода. Для ускорения процесса отсеим нужные данные в словарь, с которым вычисления происходят значительно быстрее"
   ]
  },
  {
   "cell_type": "code",
   "execution_count": 15,
   "id": "baa31e81-4f8b-4637-8c22-9ccc6c483694",
   "metadata": {},
   "outputs": [],
   "source": [
    "def dftd(users_df):\n",
    "    '''\n",
    "    dataframe to dict\n",
    "    Данная функция переводит нужные данные датафрейма в словарь\n",
    "    users_df - датафрейм, из которого делаем проекция\n",
    "    '''\n",
    "    users_dict = {}\n",
    "\n",
    "    for user_id in users_df['user_id'].unique():\n",
    "        user_answers = users_df[users_df['user_id'] == user_id]['answer'].to_list()\n",
    "        user_times = users_df[users_df['user_id'] == user_id]['time'].apply(lambda x: x.timestamp()).to_list()\n",
    "        users_dict[user_id] = {\n",
    "            'answers': user_answers,\n",
    "            'times': user_times\n",
    "        }\n",
    "\n",
    "    return users_dict"
   ]
  },
  {
   "cell_type": "code",
   "execution_count": 16,
   "id": "bc212fe9-9abf-4c1d-a656-e66bf4131a2b",
   "metadata": {},
   "outputs": [],
   "source": [
    "def nma(s1_dict, s2_dict, t):\n",
    "    '''\n",
    "    number of matching answers - количество совпадающих ответов\n",
    "    Данная функция подсчитывает количество совпадающих ответов двух студентов, причём рассматриваются ответы данные не далее t секунд друг от друга\n",
    "    s1_dict - словарь с ответами и временем сдачи первого студента\n",
    "    s2_dict - словарь с ответами и временем сдачи второго студента\n",
    "    '''\n",
    "    count = 0\n",
    "    a1, a2 = s1_dict['answers'], s2_dict['answers']\n",
    "    t1, t2 = s1_dict['times'], s2_dict['times']\n",
    "    \n",
    "    for i in range(len(a1)):\n",
    "        if (a1[i] == a2[i]) and (abs(t1[i] -  t2[i]) <= t):\n",
    "            count += 1\n",
    "            \n",
    "    return count"
   ]
  },
  {
   "cell_type": "markdown",
   "id": "1db21e47-ed39-4ed0-a65b-07756a360ba3",
   "metadata": {},
   "source": [
    "Сперва рассмотрим пары с первого экзамена"
   ]
  },
  {
   "cell_type": "code",
   "execution_count": 17,
   "id": "5a3c4501-92e8-45cd-a7f5-e6e4a5448711",
   "metadata": {},
   "outputs": [],
   "source": [
    "users_dict_1 = dftd(user_answer[user_answer['exam_id'] == 1])"
   ]
  },
  {
   "cell_type": "markdown",
   "id": "22319e93-4535-4cc4-b144-1638910f9767",
   "metadata": {},
   "source": [
    "Заметка для доработки. В предыдущем цикле использовался факт, что среди номеров i встретились все от 1 до 140. Подумать, как писать цикл, если какие-то номера пропущены"
   ]
  },
  {
   "cell_type": "code",
   "execution_count": 18,
   "id": "550565b9-d882-44d0-8d00-e3a350541bab",
   "metadata": {},
   "outputs": [],
   "source": [
    "couples_1 = []\n",
    "count_1 = []\n",
    "\n",
    "for i in range(1, len(users_dict_1)):\n",
    "    for j in range(i+1, len(users_dict_1) + 1):\n",
    "        count = nma(users_dict_1[i], users_dict_1[j], 120)\n",
    "        if count >= 8:\n",
    "            couples_1 += [[i, j]]\n",
    "            count_1 += [count]"
   ]
  },
  {
   "cell_type": "markdown",
   "id": "7c9a1c93-f2cc-4162-9d04-0e01309521bf",
   "metadata": {},
   "source": [
    "В данном случае использование numpy не дало прироста в скорости"
   ]
  },
  {
   "cell_type": "code",
   "execution_count": 19,
   "id": "adc76f85-a472-4416-9815-4cee8fa133d8",
   "metadata": {},
   "outputs": [
    {
     "data": {
      "text/plain": [
       "[[1, 131],\n",
       " [8, 9],\n",
       " [8, 19],\n",
       " [8, 55],\n",
       " [9, 55],\n",
       " [27, 44],\n",
       " [60, 119],\n",
       " [77, 99],\n",
       " [105, 111]]"
      ]
     },
     "execution_count": 19,
     "metadata": {},
     "output_type": "execute_result"
    }
   ],
   "source": [
    "couples_1[:10]"
   ]
  },
  {
   "cell_type": "code",
   "execution_count": 20,
   "id": "f79fe614-5df9-47a1-b6a9-0612d70c28f7",
   "metadata": {},
   "outputs": [
    {
     "data": {
      "text/plain": [
       "[12, 8, 9, 8, 8, 9, 8, 14, 11]"
      ]
     },
     "execution_count": 20,
     "metadata": {},
     "output_type": "execute_result"
    }
   ],
   "source": [
    "count_1[:10]"
   ]
  },
  {
   "cell_type": "markdown",
   "id": "9e71e0d6-60ac-4398-a802-e67773de109d",
   "metadata": {},
   "source": [
    "Если потребовать хотя бы 8 совпадений в ответах, то удаётся найти 9 подозрительных пар: [1, 131], [8, 9], [8, 19], [8, 55], [9, 55], [27, 44], [60, 119], [77, 99] и [105, 111]\n",
    "\n",
    "Количество совпадений у данных пар 12, 8, 9, 8, 8, 9, 8, 14 и 11 соответственно"
   ]
  },
  {
   "cell_type": "markdown",
   "id": "3a4a213c-bacc-4ea7-a159-c65e89f827ce",
   "metadata": {},
   "source": [
    "Теперь рассмотрим пары со второго экзамена"
   ]
  },
  {
   "cell_type": "code",
   "execution_count": 21,
   "id": "9f9623fa-90a7-44c8-96ec-b7cb943292be",
   "metadata": {},
   "outputs": [],
   "source": [
    "users_dict_2 = dftd(user_answer[user_answer['exam_id'] == 2])"
   ]
  },
  {
   "cell_type": "code",
   "execution_count": 22,
   "id": "da1c680f-1779-4d64-b9ac-fac95749d949",
   "metadata": {},
   "outputs": [],
   "source": [
    "couples_2 = []\n",
    "count_2 = []\n",
    "\n",
    "for i in range(1, len(users_dict_2)):\n",
    "    for j in range(i+1, len(users_dict_2) + 1):\n",
    "        count = nma(users_dict_2[i], users_dict_2[j], 120)\n",
    "        if count >= 3:\n",
    "            couples_2 += [[i, j]]\n",
    "            count_2 += [count]"
   ]
  },
  {
   "cell_type": "code",
   "execution_count": 23,
   "id": "82d67e80-845b-4698-a57d-590f017cc383",
   "metadata": {},
   "outputs": [
    {
     "data": {
      "text/plain": [
       "[[3, 7],\n",
       " [3, 97],\n",
       " [3, 144],\n",
       " [4, 74],\n",
       " [7, 29],\n",
       " [7, 126],\n",
       " [7, 151],\n",
       " [9, 162],\n",
       " [10, 18],\n",
       " [10, 127]]"
      ]
     },
     "execution_count": 23,
     "metadata": {},
     "output_type": "execute_result"
    }
   ],
   "source": [
    "couples_2[:10]"
   ]
  },
  {
   "cell_type": "code",
   "execution_count": 24,
   "id": "c823e9f7-7893-408f-b3ef-654ad07042ea",
   "metadata": {},
   "outputs": [
    {
     "data": {
      "text/plain": [
       "104"
      ]
     },
     "execution_count": 24,
     "metadata": {},
     "output_type": "execute_result"
    }
   ],
   "source": [
    "len(couples_2)"
   ]
  },
  {
   "cell_type": "markdown",
   "id": "5e84894f-9235-43ed-832e-2ac50dbf6ddc",
   "metadata": {},
   "source": [
    "Слишком большое количество подозрительных пар. Значит требование в 3 совпадающих ответа из 4 недостаточное, у многие такое могло произойти и без списывания. Усилим условие до 4 совпавдения из 4"
   ]
  },
  {
   "cell_type": "code",
   "execution_count": 25,
   "id": "9657ec25-74ed-4f63-bb6b-bfcfeb795fc2",
   "metadata": {},
   "outputs": [],
   "source": [
    "couples_2 = []\n",
    "count_2 = []\n",
    "\n",
    "for i in range(1, len(users_dict_2)):\n",
    "    for j in range(i+1, len(users_dict_2) + 1):\n",
    "        count = nma(users_dict_2[i], users_dict_2[j], 120)\n",
    "        if count == 4:\n",
    "            couples_2 += [[i, j]]\n",
    "            count_2 += [count]"
   ]
  },
  {
   "cell_type": "code",
   "execution_count": 26,
   "id": "9a8fb7e4-a1bd-4703-9632-0aa32fb43105",
   "metadata": {
    "scrolled": true
   },
   "outputs": [
    {
     "data": {
      "text/plain": [
       "[[10, 18],\n",
       " [10, 205],\n",
       " [18, 205],\n",
       " [33, 394],\n",
       " [70, 320],\n",
       " [93, 370],\n",
       " [112, 410],\n",
       " [132, 222],\n",
       " [181, 186],\n",
       " [199, 393]]"
      ]
     },
     "execution_count": 26,
     "metadata": {},
     "output_type": "execute_result"
    }
   ],
   "source": [
    "couples_2[:10]"
   ]
  },
  {
   "cell_type": "code",
   "execution_count": 27,
   "id": "0b70c446-6fad-4c3a-aeba-52e295da352c",
   "metadata": {},
   "outputs": [
    {
     "data": {
      "text/plain": [
       "13"
      ]
     },
     "execution_count": 27,
     "metadata": {},
     "output_type": "execute_result"
    }
   ],
   "source": [
    "len(couples_2)"
   ]
  },
  {
   "cell_type": "code",
   "execution_count": 28,
   "id": "e2af6a8d-96d3-434f-aa77-dae2cd0e70b2",
   "metadata": {},
   "outputs": [
    {
     "data": {
      "text/plain": [
       "[4, 4, 4, 4, 4, 4, 4, 4, 4, 4]"
      ]
     },
     "execution_count": 28,
     "metadata": {},
     "output_type": "execute_result"
    }
   ],
   "source": [
    "count_2[:10]"
   ]
  },
  {
   "cell_type": "code",
   "execution_count": 29,
   "id": "ecc57591-11c6-490e-8aea-c6690bb207c8",
   "metadata": {
    "scrolled": true
   },
   "outputs": [
    {
     "data": {
      "text/plain": [
       "[[10, 18],\n",
       " [10, 205],\n",
       " [18, 205],\n",
       " [33, 394],\n",
       " [70, 320],\n",
       " [93, 370],\n",
       " [112, 410],\n",
       " [132, 222],\n",
       " [181, 186],\n",
       " [199, 393],\n",
       " [295, 470],\n",
       " [378, 530],\n",
       " [394, 527]]"
      ]
     },
     "execution_count": 29,
     "metadata": {},
     "output_type": "execute_result"
    }
   ],
   "source": [
    "couples_2"
   ]
  },
  {
   "cell_type": "markdown",
   "id": "f3ffb7c8-2fe0-438d-9ae8-07b5c5749ecb",
   "metadata": {},
   "source": [
    "13 подозрительных пар, у которых ответы идентичны и сделаны примерно в одно и тоже время выглядят более правдоподобным сценарием\n",
    "\n",
    "Подозрительные пары: [10, 18], [10, 205], [18, 205], [33, 394], [70, 320], [93, 370], [112, 410], [132, 222], [181, 186], [199, 393], [295, 470], [378, 530] и [394, 527]\n",
    "\n",
    "Среди данных пар не встретились подозрительные пары первого экзамена"
   ]
  },
  {
   "cell_type": "markdown",
   "id": "4f5f651d-a9af-4a97-8800-f7631dc4c1e8",
   "metadata": {},
   "source": [
    "## Вычисление метрик для второй гипотезы"
   ]
  },
  {
   "cell_type": "markdown",
   "id": "48a5c9fd-0718-4e4b-a986-d87a4ba4c5f7",
   "metadata": {},
   "source": [
    "Для проверки второй гипотезы отберём студентов, у которые между большей частью ответов затрачено значительно меньше времени, чем в среднем тратят все студенты"
   ]
  },
  {
   "cell_type": "code",
   "execution_count": 30,
   "id": "bc5c31eb-3c64-4d0c-8478-028791c2cb6a",
   "metadata": {},
   "outputs": [],
   "source": [
    "start_time = exam['start_date'][0].timestamp()"
   ]
  },
  {
   "cell_type": "code",
   "execution_count": 31,
   "id": "44a29315-8a2b-42f2-95b1-8e083c62888a",
   "metadata": {},
   "outputs": [],
   "source": [
    "def ccqa(user_cor, user_times, t):\n",
    "    '''\n",
    "    count of correct quick answers - количество правильных быстрых ответов\n",
    "    Данная функция вычисляет количество правильных ответов, которые были сделаны быстрее t секунд\n",
    "    user_cor - список результатов ответов студента\n",
    "    user_times - список времён сдачи ответов студента\n",
    "    '''\n",
    "    count = 0\n",
    "\n",
    "    for i in range(len(user_cor)):\n",
    "        if i == 0:\n",
    "            if (user_cor[i] == 'OK') & ((user_times[i] - start_time) < t):\n",
    "                count += 1\n",
    "        elif (user_cor[i] == 'OK') & ((user_times[i] - user_times[i-1]) < t):\n",
    "            count += 1\n",
    "\n",
    "    return count"
   ]
  },
  {
   "cell_type": "code",
   "execution_count": 32,
   "id": "846a08ab-fb7a-4bac-91be-546f55a6a13d",
   "metadata": {},
   "outputs": [],
   "source": [
    "def dftd_1(users_df):\n",
    "    '''\n",
    "    dataframe to dict\n",
    "    Данная функция переводит нужные данные датафрейма в массив\n",
    "    users_df - датафрейм с данными\n",
    "    '''\n",
    "    users_dict = {}\n",
    "\n",
    "    for user_id in users_df['user_id'].unique():\n",
    "        verdicts = users_df[users_df['user_id'] == user_id]['verdict'].to_list()\n",
    "        times = users_df[users_df['user_id'] == user_id]['time'].apply(lambda x: x.timestamp()).to_list()\n",
    "        users_dict[user_id] = {\n",
    "            'verdicts': verdicts,\n",
    "            'times': times\n",
    "        }\n",
    "\n",
    "    return users_dict"
   ]
  },
  {
   "cell_type": "markdown",
   "id": "97e58187-21be-4a30-8c58-a9fd1bf077ef",
   "metadata": {},
   "source": [
    "Рассмотрим словарь студентов для первого экзамена"
   ]
  },
  {
   "cell_type": "code",
   "execution_count": 33,
   "id": "25fe11bb-b4b1-4437-8661-b5c0dfbda7e5",
   "metadata": {},
   "outputs": [],
   "source": [
    "users_dict_1 = dftd_1(user_answer[user_answer['exam_id'] == 1])"
   ]
  },
  {
   "cell_type": "markdown",
   "id": "c75e97fb-55c3-49f1-8c02-dfba7e904270",
   "metadata": {},
   "source": [
    "Вычислим среднее время выполнения заданий студентами"
   ]
  },
  {
   "cell_type": "code",
   "execution_count": 34,
   "id": "d9fcb4a0-1c38-4431-a39a-6871a104de68",
   "metadata": {},
   "outputs": [],
   "source": [
    "avg_time_answers = []\n",
    "total_students = len(users_dict_1)\n",
    "\n",
    "for i in range(len(users_dict_1[1]['verdicts'])):\n",
    "    sum = 0\n",
    "    for j in range(1, total_students + 1):\n",
    "        if i == 0:\n",
    "            sum += users_dict_1[j]['times'][0] - start_time\n",
    "        else:\n",
    "            sum += users_dict_1[j]['times'][i] - users_dict_1[j]['times'][i-1]\n",
    "    avg_time_answers += [sum / total_students]"
   ]
  },
  {
   "cell_type": "code",
   "execution_count": 35,
   "id": "f155090a-fa18-4348-8ee6-9e09536c5024",
   "metadata": {},
   "outputs": [
    {
     "data": {
      "text/plain": [
       "[4479.9857142857145,\n",
       " 509.57142857142856,\n",
       " 523.9928571428571,\n",
       " 455.07142857142856,\n",
       " 447.09285714285716,\n",
       " 476.72857142857146,\n",
       " 472.29285714285714,\n",
       " 477.40714285714284,\n",
       " 503.2214285714286,\n",
       " 468.5857142857143,\n",
       " 459.25714285714287,\n",
       " 411.3642857142857,\n",
       " 397.25,\n",
       " 530.6214285714286,\n",
       " 527.0571428571428,\n",
       " 465.79285714285714]"
      ]
     },
     "execution_count": 35,
     "metadata": {},
     "output_type": "execute_result"
    }
   ],
   "source": [
    "avg_time_answers"
   ]
  },
  {
   "cell_type": "code",
   "execution_count": 36,
   "id": "8f70d617-d302-415f-888d-ee3d54dd3ed6",
   "metadata": {},
   "outputs": [
    {
     "data": {
      "text/plain": [
       "(397.25, 530.6214285714286)"
      ]
     },
     "execution_count": 36,
     "metadata": {},
     "output_type": "execute_result"
    }
   ],
   "source": [
    "min(avg_time_answers[1:]), max(avg_time_answers[1:])"
   ]
  },
  {
   "cell_type": "markdown",
   "id": "9b2ab90e-f65e-4353-b8f4-2d10f05d0896",
   "metadata": {},
   "source": [
    "Видим, что на ответы студенты в среднем тратят от 397 до 530 секунд, если не считать первый вопрос (в него входит время на подготовку к тесту)\n",
    "\n",
    "Если студент правильно решает большую часть задач за значительно меньшее время, то будем считать такого студента подозрительным"
   ]
  },
  {
   "cell_type": "code",
   "execution_count": 81,
   "id": "31c826a8-9702-421d-9132-f3acae34991b",
   "metadata": {},
   "outputs": [],
   "source": [
    "susp_students = []\n",
    "count_quick_answer = []\n",
    "\n",
    "for i in range(1, len(users_dict_1) + 1):\n",
    "    count = 0\n",
    "    for j in range(len(users_dict_1[i]['verdicts'])):\n",
    "        verdict = users_dict_1[i]['verdicts'][j]\n",
    "        if (j == 0) & (verdict == 'OK') & ((users_dict_1[i]['times'][j] - exam['start_date'][0].timestamp()) <= 60):\n",
    "            count += 1\n",
    "        elif (verdict == 'OK') & ((users_dict_1[i]['times'][j] - users_dict_1[i]['times'][j-1]) <= 60):\n",
    "            count += 1\n",
    "    if count >= 8:\n",
    "        susp_students += [i]\n",
    "        count_quick_answer += [count]"
   ]
  },
  {
   "cell_type": "code",
   "execution_count": 82,
   "id": "bcce583f-0ff0-471c-90fc-4ae4f0ec0a85",
   "metadata": {},
   "outputs": [
    {
     "data": {
      "text/plain": [
       "[11, 17, 29, 32, 41, 77, 89, 99, 102, 137]"
      ]
     },
     "execution_count": 82,
     "metadata": {},
     "output_type": "execute_result"
    }
   ],
   "source": [
    "susp_students"
   ]
  },
  {
   "cell_type": "code",
   "execution_count": 83,
   "id": "14ed23d6-b1b3-43b8-8968-a55bc838a0c8",
   "metadata": {},
   "outputs": [
    {
     "data": {
      "text/plain": [
       "[11, 15, 13, 12, 13, 15, 16, 13, 10, 13]"
      ]
     },
     "execution_count": 83,
     "metadata": {},
     "output_type": "execute_result"
    }
   ],
   "source": [
    "count_quick_answer"
   ]
  },
  {
   "cell_type": "markdown",
   "id": "ace824cc-ece9-459c-8276-57036ab141b0",
   "metadata": {},
   "source": [
    "Найдено 10 учеников, которые на 8 и более вопросов потратили не более чем по 30 секунд и ответили верно\n",
    "\n",
    "Будем считать учеников 11, 17, 29, 32, 41, 77, 89, 99, 102 и 137 подозрительными"
   ]
  },
  {
   "cell_type": "markdown",
   "id": "e4120acf-e9f1-4aa3-9983-67a8f0596597",
   "metadata": {},
   "source": [
    "Рассмотрим словарь студентов для второго экзамена"
   ]
  },
  {
   "cell_type": "code",
   "execution_count": 40,
   "id": "4bfbde9a-b4b6-4b5c-a256-7f152406aa9b",
   "metadata": {},
   "outputs": [],
   "source": [
    "users_dict_2 = dftd_1(user_answer[user_answer['exam_id'] == 2])"
   ]
  },
  {
   "cell_type": "code",
   "execution_count": 41,
   "id": "147d0b1c-7b9a-4a84-a120-24b6ee3dea39",
   "metadata": {},
   "outputs": [],
   "source": [
    "avg_time_answers = []\n",
    "total_students = len(users_dict_2)\n",
    "\n",
    "for i in range(len(users_dict_2[1]['verdicts'])):\n",
    "    sum = 0\n",
    "    for j in range(1, total_students + 1):\n",
    "        if i == 0:\n",
    "            sum += users_dict_2[j]['times'][0] - exam['start_date'][1].timestamp()\n",
    "        else:\n",
    "            sum += users_dict_2[j]['times'][i] - users_dict_2[j]['times'][i-1]\n",
    "    avg_time_answers += [sum / total_students]"
   ]
  },
  {
   "cell_type": "code",
   "execution_count": 42,
   "id": "87f6e5e3-d0f6-49f7-bffc-9a7886ab2e34",
   "metadata": {},
   "outputs": [
    {
     "data": {
      "text/plain": [
       "[1957.3415094339623, 583.0415094339622, 629.1339622641509, 630.5301886792453]"
      ]
     },
     "execution_count": 42,
     "metadata": {},
     "output_type": "execute_result"
    }
   ],
   "source": [
    "avg_time_answers"
   ]
  },
  {
   "cell_type": "markdown",
   "id": "99dbc64f-e283-4949-bc1d-33151c195180",
   "metadata": {},
   "source": [
    "Заметим, что в среднем на вопрос тратится по 583 - 630 секунд. Первый результат не в счёт, т.к. там могли быть организационные мероприятия, которые заняли время"
   ]
  },
  {
   "cell_type": "code",
   "execution_count": 84,
   "id": "21f42a05-1696-4198-aa45-f8b132c793dc",
   "metadata": {},
   "outputs": [],
   "source": [
    "susp_students = []\n",
    "count_quick_answer = []\n",
    "\n",
    "for i in range(1, len(users_dict_2) + 1):\n",
    "    count = 0\n",
    "    for j in range(len(users_dict_2[i]['verdicts'])):\n",
    "        verdict = users_dict_2[i]['verdicts'][j]\n",
    "        if (j == 0) & (verdict == 'OK') & ((users_dict_2[i]['times'][j] - exam['start_date'][1].timestamp()) <= 60):\n",
    "            count += 1\n",
    "        elif (verdict == 'OK') & ((users_dict_2[i]['times'][j] - users_dict_2[i]['times'][j-1]) <= 60):\n",
    "            count += 1\n",
    "    if count >= 3:\n",
    "        susp_students += [i]\n",
    "        count_quick_answer += [count]"
   ]
  },
  {
   "cell_type": "code",
   "execution_count": 85,
   "id": "28823d59-4291-4b64-b37c-505adb6fae29",
   "metadata": {},
   "outputs": [
    {
     "data": {
      "text/plain": [
       "[74, 123, 135, 199, 319, 368, 393, 416]"
      ]
     },
     "execution_count": 85,
     "metadata": {},
     "output_type": "execute_result"
    }
   ],
   "source": [
    "susp_students"
   ]
  },
  {
   "cell_type": "code",
   "execution_count": 86,
   "id": "1c3aef26-8f90-429d-a88a-a7e02cd98607",
   "metadata": {},
   "outputs": [
    {
     "data": {
      "text/plain": [
       "[3, 3, 3, 3, 3, 3, 3, 3]"
      ]
     },
     "execution_count": 86,
     "metadata": {},
     "output_type": "execute_result"
    }
   ],
   "source": [
    "count_quick_answer"
   ]
  },
  {
   "cell_type": "markdown",
   "id": "739ac550-8e47-4568-a533-38da0c43b29d",
   "metadata": {},
   "source": [
    "Найдено 8 учеников, которые на 3 вопроса потратили не более чем по 60 секунд и ответили верно\n",
    "\n",
    "Будем считать учеников 74, 123, 135, 199, 319, 368, 393 и 416 подозрительными"
   ]
  }
 ],
 "metadata": {
  "kernelspec": {
   "display_name": "Python 3 (ipykernel)",
   "language": "python",
   "name": "python3"
  },
  "language_info": {
   "codemirror_mode": {
    "name": "ipython",
    "version": 3
   },
   "file_extension": ".py",
   "mimetype": "text/x-python",
   "name": "python",
   "nbconvert_exporter": "python",
   "pygments_lexer": "ipython3",
   "version": "3.13.1"
  }
 },
 "nbformat": 4,
 "nbformat_minor": 5
}
